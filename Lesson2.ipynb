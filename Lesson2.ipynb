{
 "cells": [
  {
   "cell_type": "markdown",
   "metadata": {},
   "source": [
    "2.10\n",
    "Mamy dany napis wielowierszowy line. Podać sposób obliczenia liczby wyrazów w napisie. Przez wyraz rozumiemy ciąg \"czarnych\" znaków, oddzielony od innych wyrazów białymi znakami (spacja, tabulacja, newline)."
   ]
  },
  {
   "cell_type": "code",
   "execution_count": 1,
   "metadata": {},
   "outputs": [
    {
     "name": "stdout",
     "output_type": "stream",
     "text": [
      "19\n"
     ]
    }
   ],
   "source": [
    "def count_words_in_text(text):\n",
    "    return len(text.split())\n",
    "\n",
    "line = \"\"\"Lorem ipsum dolor sit amet,\n",
    "consectetur adipiscing elit,\n",
    "sed do eiusmod tempor incididunt ut labore et dolore magna aliqua.\"\"\"\n",
    "\n",
    "print(count_words_in_text(line))"
   ]
  },
  {
   "cell_type": "markdown",
   "metadata": {},
   "source": [
    "2.11 Podać sposób wyświetlania napisu word tak, aby jego znaki były rozdzielone znakiem podkreślenia."
   ]
  },
  {
   "cell_type": "code",
   "execution_count": 2,
   "metadata": {},
   "outputs": [
    {
     "name": "stdout",
     "output_type": "stream",
     "text": [
      "p_y_t_h_o_n"
     ]
    }
   ],
   "source": [
    "def print_with_underscores(text):\n",
    "    for i in range(len(text)):\n",
    "        print(text[i], end='')\n",
    "        if (i != len(text) - 1):\n",
    "            print(\"_\", end='')\n",
    "        \n",
    "print_with_underscores(\"python\")"
   ]
  },
  {
   "cell_type": "markdown",
   "metadata": {},
   "source": [
    "2.12\n",
    "Zbudować napis stworzony z pierwszych znaków wyrazów z wiersza line. Zbudować napis stworzony z ostatnich znaków wyrazów z wiersza line."
   ]
  },
  {
   "cell_type": "code",
   "execution_count": 3,
   "metadata": {},
   "outputs": [
    {
     "name": "stdout",
     "output_type": "stream",
     "text": [
      "Lidsacaesdetiuledma\n",
      "mmrttrgtdodrtteteaa\n"
     ]
    }
   ],
   "source": [
    "import string\n",
    "\n",
    "def build_string_out_of_texts_words_first_characters(text):\n",
    "    result = \"\"\n",
    "    for word in text.split():\n",
    "        result += word[0]\n",
    "    return result\n",
    "\n",
    "print(build_string_out_of_texts_words_first_characters(line))\n",
    "\n",
    "def build_string_out_of_texts_words_last_characters(text):\n",
    "    result = \"\"\n",
    "    for word in text.split():\n",
    "        word = word.strip(string.punctuation)\n",
    "        result += word[len(word) - 1]\n",
    "    return result\n",
    "\n",
    "print(build_string_out_of_texts_words_last_characters(line))"
   ]
  },
  {
   "cell_type": "markdown",
   "metadata": {},
   "source": [
    "2.13\n",
    "Znaleźć łączną długość wyrazów w napisie line. Wskazówka: można skorzystać z funkcji sum()."
   ]
  },
  {
   "cell_type": "code",
   "execution_count": 4,
   "metadata": {},
   "outputs": [
    {
     "name": "stdout",
     "output_type": "stream",
     "text": [
      "102\n"
     ]
    }
   ],
   "source": [
    "def count_total_words_length(text):\n",
    "    total_words_length = 0\n",
    "    for word in text.split():\n",
    "        word = word.strip(string.punctuation)\n",
    "        total_words_length += len(word)\n",
    "    return total_words_length\n",
    "\n",
    "print(count_total_words_length(line))"
   ]
  },
  {
   "cell_type": "markdown",
   "metadata": {},
   "source": [
    "2.14 Znaleźć: (a) najdłuższy wyraz, (b) długość najdłuższego wyrazu w napisie line."
   ]
  },
  {
   "cell_type": "code",
   "execution_count": 5,
   "metadata": {},
   "outputs": [
    {
     "name": "stdout",
     "output_type": "stream",
     "text": [
      "consectetur\n",
      "11\n"
     ]
    }
   ],
   "source": [
    "def find_longest_word(text):\n",
    "    current_longest = \"\"\n",
    "    for word in text.split():\n",
    "        word = word.strip(string.punctuation)\n",
    "        if len(word) > len(current_longest):\n",
    "            current_longest = word\n",
    "    return current_longest\n",
    "\n",
    "longest_word = find_longest_word(line)\n",
    "print(longest_word)\n",
    "print(len(longest_word))"
   ]
  },
  {
   "cell_type": "markdown",
   "metadata": {},
   "source": [
    "2.15 Na liście L znajdują się liczby całkowite dodatnie. Stworzyć napis będący ciągiem cyfr kolejnych liczb z listy L."
   ]
  },
  {
   "cell_type": "code",
   "execution_count": 6,
   "metadata": {},
   "outputs": [
    {
     "name": "stdout",
     "output_type": "stream",
     "text": [
      "123581321144\n"
     ]
    }
   ],
   "source": [
    "L = [1, 2, 3, 5, 8, 13, 21, 144]\n",
    "result = \"\"\n",
    "for number in L:\n",
    "    result += str(number)\n",
    "print(result)"
   ]
  },
  {
   "cell_type": "markdown",
   "metadata": {},
   "source": [
    "2.16 W tekście znajdującym się w zmiennej line zamienić ciąg znaków \"GvR\" na \"Guido van Rossum\"."
   ]
  },
  {
   "cell_type": "code",
   "execution_count": 7,
   "metadata": {},
   "outputs": [
    {
     "name": "stdout",
     "output_type": "stream",
     "text": [
      "Guido van Rossum is a Dutch programmer best known as the author of the Python programming language.\n",
      "In December 1989, Guido van Rossum had been looking for a \"'hobby' programming project that would keep [him] occupied during the week around Christmas\". \n"
     ]
    }
   ],
   "source": [
    "line = \"\"\"GvR is a Dutch programmer best known as the author of the Python programming language.\n",
    "In December 1989, GvR had been looking for a \"'hobby' programming project that would keep [him] occupied during the week around Christmas\". \"\"\"\n",
    "print(line.replace(\"GvR\", \"Guido van Rossum\"))"
   ]
  },
  {
   "cell_type": "markdown",
   "metadata": {},
   "source": [
    "2.17 Posortować wyrazy z napisu line raz alfabetycznie, a raz pod względem długości. Wskazówka: funkcja wbudowana sorted()."
   ]
  },
  {
   "cell_type": "code",
   "execution_count": 8,
   "metadata": {},
   "outputs": [
    {
     "name": "stdout",
     "output_type": "stream",
     "text": [
      "['1989', 'Christmas', 'December', 'Dutch', 'GvR', 'GvR', 'In', 'Python', 'a', 'a', 'around', 'as', 'author', 'been', 'best', 'during', 'for', 'had', 'him', 'hobby', 'is', 'keep', 'known', 'language', 'looking', 'occupied', 'of', 'programmer', 'programming', 'programming', 'project', 'that', 'the', 'the', 'the', 'week', 'would']\n",
      "['a', 'a', 'is', 'as', 'of', 'In', 'GvR', 'the', 'the', 'GvR', 'had', 'for', 'him', 'the', 'best', '1989', 'been', 'that', 'keep', 'week', 'Dutch', 'known', 'hobby', 'would', 'author', 'Python', 'during', 'around', 'looking', 'project', 'language', 'December', 'occupied', 'Christmas', 'programmer', 'programming', 'programming']\n"
     ]
    }
   ],
   "source": [
    "import re\n",
    "words = [re.sub(r'\\W+', '', word) for word in line.split()]\n",
    "print(sorted(words))\n",
    "print(sorted(words, key=len))"
   ]
  },
  {
   "cell_type": "markdown",
   "metadata": {},
   "source": [
    "2.18 Znaleźć liczbę cyfr zero w dużej liczbie całkowitej. Wskazówka: zamienić liczbę na napis."
   ]
  },
  {
   "cell_type": "code",
   "execution_count": 9,
   "metadata": {},
   "outputs": [
    {
     "name": "stdout",
     "output_type": "stream",
     "text": [
      "6\n"
     ]
    }
   ],
   "source": [
    "big_number = 321001230567023400\n",
    "print(str(big_number).count(\"0\"))"
   ]
  },
  {
   "cell_type": "markdown",
   "metadata": {},
   "source": [
    "2.19 Na liście L mamy liczby jedno-, dwu- i trzycyfrowe dodatnie. Chcemy zbudować napis z trzycyfrowych bloków, gdzie liczby jedno- i dwucyfrowe będą miały blok dopełniony zerami, np. 007, 024. Wskazówka: str.zfill()."
   ]
  },
  {
   "cell_type": "code",
   "execution_count": 10,
   "metadata": {},
   "outputs": [
    {
     "name": "stdout",
     "output_type": "stream",
     "text": [
      "001002003005008013021144233\n"
     ]
    }
   ],
   "source": [
    "L = [1, 2, 3, 5, 8, 13, 21, 144, 233]\n",
    "result = \"\"\n",
    "for number in L:\n",
    "    number_as_string = str(number)\n",
    "    result += number_as_string.zfill(3)\n",
    "print(result)"
   ]
  }
 ],
 "metadata": {
  "kernelspec": {
   "display_name": "Python 3",
   "language": "python",
   "name": "python3"
  },
  "language_info": {
   "codemirror_mode": {
    "name": "ipython",
    "version": 3
   },
   "file_extension": ".py",
   "mimetype": "text/x-python",
   "name": "python",
   "nbconvert_exporter": "python",
   "pygments_lexer": "ipython3",
   "version": "3.6.5"
  }
 },
 "nbformat": 4,
 "nbformat_minor": 2
}
