{
 "cells": [
  {
   "cell_type": "markdown",
   "metadata": {},
   "source": [
    "4.2 Rozwiązania zadań 3.5 i 3.6 z poprzedniego zestawu zapisać w postaci funkcji, które zwracają pełny string przez return."
   ]
  },
  {
   "cell_type": "code",
   "execution_count": 1,
   "metadata": {},
   "outputs": [
    {
     "name": "stdout",
     "output_type": "stream",
     "text": [
      "|....|....|....|....|....|....|....|....|....|....|....|....|\n",
      "0    1    2    3    4    5    6    7    8    9   10   11   12\n",
      "+---+---+---+---+\n",
      "|   |   |   |   |\n",
      "+---+---+---+---+\n",
      "|   |   |   |   |\n",
      "+---+---+---+---+\n"
     ]
    }
   ],
   "source": [
    "import math\n",
    "\n",
    "def build_measure(length):\n",
    "    result = \"\"\n",
    "    for i in range(length):\n",
    "        result += '|'\n",
    "        result += ('.' * 4)\n",
    "    result += '|\\n0'\n",
    "    for i in range(1, length + 1):\n",
    "        result += str(i).rjust(5)\n",
    "    return result\n",
    "\n",
    "def build_rectangle(width, length):\n",
    "    result = \"\"\n",
    "    for i in range(width):\n",
    "        for j in range(length):\n",
    "            result += \"+---\"\n",
    "        result += \"+\\n\"\n",
    "        for j in range(length):\n",
    "            result += \"|   \"\n",
    "        result += \"|\\n\"\n",
    "    for j in range(length):\n",
    "        result += \"+---\"\n",
    "    result += \"+\"\n",
    "    return result\n",
    "\n",
    "print(build_measure(12))\n",
    "print(build_rectangle(2, 4))"
   ]
  },
  {
   "cell_type": "markdown",
   "metadata": {},
   "source": [
    "4.3 Napisać iteracyjną wersję funkcji factorial(n) obliczającej silnię."
   ]
  },
  {
   "cell_type": "code",
   "execution_count": 2,
   "metadata": {},
   "outputs": [
    {
     "name": "stdout",
     "output_type": "stream",
     "text": [
      "720\n"
     ]
    }
   ],
   "source": [
    "def factorial(n):\n",
    "    result = 1\n",
    "    for i in range(n):\n",
    "        result *= i + 1\n",
    "    return result\n",
    "\n",
    "print(factorial(6))"
   ]
  },
  {
   "cell_type": "markdown",
   "metadata": {},
   "source": [
    "4.4 Napisać iteracyjną wersję funkcji fibonacci(n) obliczającej n-ty wyraz ciągu Fibonacciego."
   ]
  },
  {
   "cell_type": "code",
   "execution_count": 3,
   "metadata": {},
   "outputs": [
    {
     "name": "stdout",
     "output_type": "stream",
     "text": [
      "4181\n"
     ]
    }
   ],
   "source": [
    "def fibonacci(n):\n",
    "    a, b = 0, 1\n",
    "    for i in range(n):\n",
    "        a, b = b, a + b\n",
    "    return a\n",
    "\n",
    "print(fibonacci(19))"
   ]
  },
  {
   "cell_type": "markdown",
   "metadata": {},
   "source": [
    "4.5 Napisać funkcję odwracanie(L, left, right) odwracającą kolejność elementów na liście od numeru left do right włącznie. Lista jest modyfikowana w miejscu (in place). Rozważyć wersję iteracyjną i rekurencyjną."
   ]
  },
  {
   "cell_type": "code",
   "execution_count": 4,
   "metadata": {},
   "outputs": [
    {
     "name": "stdout",
     "output_type": "stream",
     "text": [
      "[1, 22, 3, 5, 78, 2]\n",
      "[1, 5, 3, 22, 78, 2]\n"
     ]
    }
   ],
   "source": [
    "def iterative_sublist_reverse(L, left, right):\n",
    "    while left < right:\n",
    "        L[left], L[right] = L[right], L[left]\n",
    "        left += 1\n",
    "        right -= 1\n",
    "        \n",
    "def recursive_sublist_reverse(L, left, right):\n",
    "    if left >= right: return\n",
    "    L[left], L[right] = L[right], L[left]\n",
    "    recursive_sublist_reverse(L, left + 1, right - 1)\n",
    "        \n",
    "my_list = [1, 5, 3, 22, 78, 2]\n",
    "iterative_sublist_reverse(my_list, 1, 3)\n",
    "print(my_list)\n",
    "recursive_sublist_reverse(my_list, 1, 3)\n",
    "print(my_list)"
   ]
  },
  {
   "cell_type": "markdown",
   "metadata": {},
   "source": [
    "4.6 Napisać funkcję sum_seq(sequence) obliczającą sumę liczb zawartych w sekwencji, która może zawierać zagnieżdżone podsekwencje. Wskazówka: rozważyć wersję rekurencyjną, a sprawdzanie, czy element jest sekwencją, wykonać przez isinstance(item, (list, tuple))."
   ]
  },
  {
   "cell_type": "code",
   "execution_count": 5,
   "metadata": {},
   "outputs": [
    {
     "name": "stdout",
     "output_type": "stream",
     "text": [
      "55\n"
     ]
    }
   ],
   "source": [
    "def sum_sequence(sequence):\n",
    "    if not isinstance(sequence, (list, tuple)):\n",
    "        return sequence\n",
    "    if len(sequence) == 0:\n",
    "        return 0\n",
    "    return sum_sequence(sequence[0]) + sum_sequence(sequence[1:])\n",
    "\n",
    "sequence = [[1, 2], (3, [4, 5, [6]]), [7, [], [8, [9, 10]]]]\n",
    "print(sum_sequence(sequence))"
   ]
  },
  {
   "cell_type": "markdown",
   "metadata": {},
   "source": [
    "4.7 Mamy daną sekwencję, w której niektóre z elementów mogą okazać się podsekwencjami, a takie zagnieżdżenia mogą się nakładać do nieograniczonej głębokości. Napisać funkcję flatten(sequence), która zwróci spłaszczoną listę wszystkich elementów sekwencji. Wskazówka: rozważyć wersję rekurencyjną, a sprawdzanie czy element jest sekwencją, wykonać przez isinstance(item, (list, tuple))."
   ]
  },
  {
   "cell_type": "code",
   "execution_count": 6,
   "metadata": {},
   "outputs": [
    {
     "name": "stdout",
     "output_type": "stream",
     "text": [
      "[1, 2, 3, 4, 5, 6, 7, 8, 9]\n"
     ]
    }
   ],
   "source": [
    "def flatten(sequence):\n",
    "    if not isinstance(sequence, (list, tuple)):\n",
    "        return [sequence]\n",
    "    if len(sequence) == 0:\n",
    "        return []\n",
    "    return flatten(sequence[0]) + flatten(sequence[1:])\n",
    "\n",
    "sequence = [1, (2,3), [], [4, (5,6,7)], 8, [9]]\n",
    "print(flatten(sequence))"
   ]
  }
 ],
 "metadata": {
  "kernelspec": {
   "display_name": "Python 3",
   "language": "python",
   "name": "python3"
  },
  "language_info": {
   "codemirror_mode": {
    "name": "ipython",
    "version": 3
   },
   "file_extension": ".py",
   "mimetype": "text/x-python",
   "name": "python",
   "nbconvert_exporter": "python",
   "pygments_lexer": "ipython3",
   "version": "3.6.2"
  }
 },
 "nbformat": 4,
 "nbformat_minor": 2
}
