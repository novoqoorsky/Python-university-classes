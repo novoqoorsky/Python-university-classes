{
 "cells": [
  {
   "cell_type": "markdown",
   "metadata": {},
   "source": [
    "8.1 Implementacja algorytmu szukania rozwiązań równania liniowego postaci a * x + b * y + c = 0, która rozwiązania wypisuje w formie komunikatów. "
   ]
  },
  {
   "cell_type": "code",
   "execution_count": 1,
   "metadata": {},
   "outputs": [],
   "source": [
    "from math import gcd\n",
    "\n",
    "def extended_gcd(a, b):\n",
    "    if a == 0:\n",
    "        return (0, 1)\n",
    "    (x, y) = extended_gcd(b % a, a)\n",
    "    return ((y - (b // a) * x), x)\n",
    "\n",
    "def solve_linear_diophantine_equation(a, b, c):\n",
    "    d = gcd(a, b)\n",
    "    if d % c == 0:\n",
    "        print(\"The equation has no solution\")\n",
    "        pass\n",
    "    a1 = a // d\n",
    "    b1 = b // d\n",
    "    c1 = c // d\n",
    "    (s, t) = extended_gcd(a1, b1)\n",
    "    x0 = (c // d) * s\n",
    "    y0 = (c // d) * t\n",
    "    print(\"General solution:\")\n",
    "    print(\"x = {x0} + {i}k for any integer k\".format(x0 = x0, i = b // d))\n",
    "    print(\"y = {y0} - {i}k for any integer k\".format(y0 = y0, i = a // d))"
   ]
  },
  {
   "cell_type": "code",
   "execution_count": 2,
   "metadata": {
    "scrolled": true
   },
   "outputs": [
    {
     "name": "stdout",
     "output_type": "stream",
     "text": [
      "General solution:\n",
      "x = 5 + 3k for any integer k\n",
      "y = -5 - 2k for any integer k\n"
     ]
    }
   ],
   "source": [
    "solve_linear_diophantine_equation(2, 3, -5)"
   ]
  },
  {
   "cell_type": "markdown",
   "metadata": {},
   "source": [
    "8.3 Obliczyć liczbę pi za pomocą algorytmu Monte Carlo. Wykorzystać losowanie punktów z kwadratu z wpisanym kołem. Sprawdzić zależność dokładności wyniku od liczby losowań. Wskazówka: Skorzystać z modułu random."
   ]
  },
  {
   "cell_type": "code",
   "execution_count": 3,
   "metadata": {},
   "outputs": [
    {
     "name": "stdout",
     "output_type": "stream",
     "text": [
      "3.2\n",
      "3.04\n",
      "3.02\n",
      "3.1384\n",
      "3.14268\n",
      "3.140232\n"
     ]
    }
   ],
   "source": [
    "import random\n",
    "import math\n",
    "\n",
    "def calc_pi(n = 100):\n",
    "    hit = 0\n",
    "    for _ in range(0, n):\n",
    "        x = random.random()\n",
    "        y = random.random()\n",
    "        if math.sqrt(x * x + y * y) < 1.0:\n",
    "            hit += 1\n",
    "    return (4 * hit) / n\n",
    "\n",
    "n = 10\n",
    "for _ in range(0, 6):\n",
    "    print(calc_pi(n))\n",
    "    n *= 10"
   ]
  },
  {
   "cell_type": "markdown",
   "metadata": {},
   "source": [
    "8.4 Zaimplementować algorytm obliczający pole powierzchni trójkąta, jeżeli dane są trzy liczby będące długościami jego boków. Jeżeli podane liczby nie spełniają warunku trójkąta, to program ma generować wyjątek ValueError. "
   ]
  },
  {
   "cell_type": "code",
   "execution_count": 4,
   "metadata": {},
   "outputs": [
    {
     "name": "stdout",
     "output_type": "stream",
     "text": [
      "Exception caught\n",
      "6.0\n"
     ]
    }
   ],
   "source": [
    "def heron(a, b, c):\n",
    "    if a + b <= c or a + c <= b or b + c <= a:\n",
    "        raise ValueError\n",
    "    s = (a + b + c) / 2\n",
    "    return math.sqrt(s * (s - a) * (s - b) * (s - c))\n",
    "\n",
    "try:\n",
    "    heron(3, 2, 1)\n",
    "except ValueError:\n",
    "    print(\"Exception caught\")\n",
    "print(heron(3, 4, 5))"
   ]
  },
  {
   "cell_type": "markdown",
   "metadata": {},
   "source": [
    "8.6 Za pomocą techniki programowania dynamicznego napisać program obliczający wartości funkcji P(i, j). Porównać z wersją rekurencyjną programu. Wskazówka: Wykorzystać tablicę dwuwymiarową (np. słownik) do przechowywania wartości funkcji. Wartości w tablicy wypełniać kolejno wierszami. "
   ]
  },
  {
   "cell_type": "markdown",
   "metadata": {},
   "source": [
    "$$ P(0, 0) = 0.5, \\\\\n",
    "P(i, 0) = 0.0 \\textrm{ dla } i > 0, \\\\\n",
    "P(0, j) = 1.0 \\textrm{ dla } j > 0, \\\\\n",
    "P(i, j) = 0.5 * (P(i-1, j) + P(i, j-1)) \\textrm{ dla } i > 0, j > 0. $$"
   ]
  },
  {
   "cell_type": "code",
   "execution_count": 5,
   "metadata": {},
   "outputs": [],
   "source": [
    "values = {(0, 0) : 0.5}\n",
    "for i in range(1, 10 ** 4):\n",
    "    values[(i, 0)] = 0.0\n",
    "    values[(0, i)] = 1.0"
   ]
  },
  {
   "cell_type": "code",
   "execution_count": 6,
   "metadata": {},
   "outputs": [],
   "source": [
    "def P(i, j):\n",
    "    global values\n",
    "    if (i, j) not in values:\n",
    "        values[(i, j)] = 0.5 * (P(i - 1, j) + P(i, j - 1))\n",
    "    return values[(i, j)]"
   ]
  },
  {
   "cell_type": "code",
   "execution_count": 7,
   "metadata": {},
   "outputs": [
    {
     "name": "stdout",
     "output_type": "stream",
     "text": [
      "0.9834280161062472\n"
     ]
    }
   ],
   "source": [
    "print(P(21, 37))"
   ]
  }
 ],
 "metadata": {
  "kernelspec": {
   "display_name": "Python 3",
   "language": "python",
   "name": "python3"
  },
  "language_info": {
   "codemirror_mode": {
    "name": "ipython",
    "version": 3
   },
   "file_extension": ".py",
   "mimetype": "text/x-python",
   "name": "python",
   "nbconvert_exporter": "python",
   "pygments_lexer": "ipython3",
   "version": "3.6.5"
  }
 },
 "nbformat": 4,
 "nbformat_minor": 2
}
